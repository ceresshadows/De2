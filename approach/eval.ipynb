{
 "cells": [
  {
   "cell_type": "code",
   "execution_count": 7,
   "metadata": {},
   "outputs": [],
   "source": [
    "import pandas as pd\n"
   ]
  },
  {
   "cell_type": "code",
   "execution_count": 8,
   "metadata": {},
   "outputs": [],
   "source": [
    "root_path = 'C:/Users/lenovo/Desktop/OneDrive - National University of Singapore/sem3/De2/assets/case1-lane_borrow/保护/'\n",
    "\n",
    "df = pd.read_csv(root_path+'data_processed.csv')\n",
    "\n",
    "y_df = pd.read_csv(root_path+'features.csv')\n",
    "\n",
    "ids_keep = list(range(10,30))\n",
    "\n",
    "# 在df和y_df中仅保留ids_keep中的id\n",
    "df = df[df['id'].isin(ids_keep)]\n",
    "y_df = y_df[y_df['id'].isin(ids_keep)]\n",
    "\n",
    "# 重新编排名为'id'的列\n",
    "# 先对df和y_df按'id'分组，然后重设索引\n",
    "df = df.groupby('id').apply(lambda x: x.reset_index(drop=True))\n",
    "y_df = y_df.groupby('id').apply(lambda x: x.reset_index(drop=True))\n",
    "\n",
    "# 更新'id'列，使每个组的'id'相同\n",
    "new_ids = {old_id: new_id for new_id, old_id in enumerate(sorted(df['id'].unique()), start=1)}\n",
    "df['id'] = df['id'].map(new_ids)\n",
    "y_df['id'] = y_df['id'].map(new_ids)\n",
    "\n",
    "root_path = 'C:/Users/lenovo/Desktop/OneDrive - National University of Singapore/sem3/De2/assets/case1-lane_borrow/'\n",
    "\n",
    "df.to_csv(root_path+'data_processed.csv')\n",
    "y_df.to_csv(root_path+'features.csv')\n"
   ]
  }
 ],
 "metadata": {
  "kernelspec": {
   "display_name": "Python 3",
   "language": "python",
   "name": "python3"
  },
  "language_info": {
   "codemirror_mode": {
    "name": "ipython",
    "version": 3
   },
   "file_extension": ".py",
   "mimetype": "text/x-python",
   "name": "python",
   "nbconvert_exporter": "python",
   "pygments_lexer": "ipython3",
   "version": "3.7.6"
  }
 },
 "nbformat": 4,
 "nbformat_minor": 2
}
